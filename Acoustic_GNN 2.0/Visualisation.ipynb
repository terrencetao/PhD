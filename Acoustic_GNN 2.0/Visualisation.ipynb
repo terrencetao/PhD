{
 "cells": [
  {
   "cell_type": "code",
   "execution_count": null,
   "id": "47294ac1-3cd0-407c-996d-33ff72b19fb9",
   "metadata": {},
   "outputs": [],
   "source": [
    "import dgl.function as fn\n",
    "import torch\n",
    "import torch.nn as nn\n",
    "import torch.nn.functional as F\n",
    "from dgl.nn import SAGEConv\n",
    "import matplotlib.pyplot as plt\n",
    "from sklearn.manifold import TSNE\n",
    "\n",
    "model_path = os.path.join(input_folder,\"gnn_model.pth\")\n",
    "loaded_model = GCN(in_feats, hidden_size, num_classes, conv_param)\n",
    "loaded_model.load_state_dict(torch.load(model_path))"
   ]
  },
  {
   "cell_type": "code",
   "execution_count": null,
   "id": "46434f3b-8c09-4e23-b399-70bc1b6429fa",
   "metadata": {},
   "outputs": [],
   "source": [
    "# Extract node representations\n",
    "with torch.no_grad():\n",
    "    model.eval()\n",
    "    node_embeddings = model(dgl_G, features).numpy()\n",
    "\n",
    "# Reduce dimensions for plotting\n",
    "tsne = TSNE(n_components=2)\n",
    "node_embeddings_2d = tsne.fit_transform(node_embeddings)\n",
    "\n",
    "# Plot node representations\n",
    "plt.figure(figsize=(10, 8))\n",
    "for i, label in enumerate(data['label'].unique()):\n",
    "    indices = (data['label'] == label).values\n",
    "    plt.scatter(node_embeddings_2d[indices, 0], node_embeddings_2d[indices, 1], label=label)\n",
    "plt.legend()\n",
    "plt.title('Node Representations (TSNE)')\n",
    "plt.xlabel('TSNE Dimension 1')\n",
    "plt.ylabel('TSNE Dimension 2')\n",
    "plt.show()\n"
   ]
  },
  {
   "cell_type": "code",
   "execution_count": null,
   "id": "528eb4fe-7a1f-403f-8318-ca08b1fbe992",
   "metadata": {},
   "outputs": [],
   "source": [
    "model_path = os.path.join(input_folder,\"gnn_model_unsup.pth\")\n",
    "loaded_model = GCN(in_feats, hidden_size, num_classes, conv_param)\n",
    "loaded_model.load_state_dict(torch.load(model_path))"
   ]
  },
  {
   "cell_type": "code",
   "execution_count": null,
   "id": "f0be7183-3929-4924-8448-65a9ea27076f",
   "metadata": {},
   "outputs": [],
   "source": [
    "# Extract node representations\n",
    "with torch.no_grad():\n",
    "    model.eval()\n",
    "    node_embeddings = model(dgl_G, features).numpy()\n",
    "\n",
    "# Reduce dimensions for plotting\n",
    "tsne = TSNE(n_components=2)\n",
    "node_embeddings_2d = tsne.fit_transform(node_embeddings)\n",
    "\n",
    "# Plot node representations\n",
    "plt.figure(figsize=(10, 8))\n",
    "for i, label in enumerate(data['label'].unique()):\n",
    "    indices = (data['label'] == label).values\n",
    "    plt.scatter(node_embeddings_2d[indices, 0], node_embeddings_2d[indices, 1], label=label)\n",
    "plt.legend()\n",
    "plt.title('Node Representations (TSNE)')\n",
    "plt.xlabel('TSNE Dimension 1')\n",
    "plt.ylabel('TSNE Dimension 2')\n",
    "plt.show("
   ]
  }
 ],
 "metadata": {
  "kernelspec": {
   "display_name": "Python 3 (ipykernel)",
   "language": "python",
   "name": "python3"
  },
  "language_info": {
   "codemirror_mode": {
    "name": "ipython",
    "version": 3
   },
   "file_extension": ".py",
   "mimetype": "text/x-python",
   "name": "python",
   "nbconvert_exporter": "python",
   "pygments_lexer": "ipython3",
   "version": "3.8.18"
  }
 },
 "nbformat": 4,
 "nbformat_minor": 5
}
